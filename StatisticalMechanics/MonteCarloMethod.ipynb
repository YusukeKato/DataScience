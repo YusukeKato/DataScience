{
 "cells": [
  {
   "cell_type": "markdown",
   "metadata": {},
   "source": [
    "# モンテカルロ法で円周率をもとめる"
   ]
  },
  {
   "cell_type": "markdown",
   "metadata": {},
   "source": [
    "### モンテカルロ法とは、乱数を用いて解を求める方法である。確率を使って解がもとまる。"
   ]
  },
  {
   "cell_type": "markdown",
   "metadata": {},
   "source": [
    "## ＜方法＞\n",
    "(1) 2次元平面にランダムな点Pを N 個打つ\n",
    "\n",
    "(2) N 個の点で、半径 r の中に入っている点を数える(INとする)\n",
    "\n",
    "(3) 以下の式より、円周率が求められる\n"
   ]
  },
  {
   "cell_type": "markdown",
   "metadata": {},
   "source": [
    "## ＜計算式＞\n",
    "\n",
    "点Pの座標(x,y)のx,yはそれぞれ範囲[0, 1.0]の値を得る。つまり、点Pは一辺の長さが１の正方形内に打たれる(N)。さらに、原点(0,0)と点Pの距離が１以下の点Pの数を数える。これは、半径が１の円の中に打たれた点Pの数である(IN)。よって、次の式が成り立つ。\n",
    "\n",
    "$$\\frac{IN}{N} = \\frac{Area\\: of\\: circle}{Area\\: of\\: square}$$\n",
    "\n",
    "$$\\frac{IN}{N}=\\frac{r \\times r \\times pi}{2r \\times 2r}$$\n",
    "\n",
    "$$\\pi=4 \\times \\frac{IN}{N}$$"
   ]
  },
  {
   "cell_type": "markdown",
   "metadata": {},
   "source": [
    "## ＜ヘッダ＞\n",
    "描写のためのモジュールを読み込む"
   ]
  },
  {
   "cell_type": "code",
   "execution_count": 27,
   "metadata": {
    "collapsed": true
   },
   "outputs": [],
   "source": [
    "%matplotlib inline\n",
    "import numpy as np\n",
    "import math, random\n",
    "import matplotlib.pyplot as plt"
   ]
  },
  {
   "cell_type": "markdown",
   "metadata": {},
   "source": [
    "## ＜使用する値＞"
   ]
  },
  {
   "cell_type": "code",
   "execution_count": 37,
   "metadata": {
    "collapsed": true
   },
   "outputs": [],
   "source": [
    "N = 100000\n",
    "r = 1.0\n",
    "IN = 0"
   ]
  },
  {
   "cell_type": "markdown",
   "metadata": {},
   "source": [
    "## ＜カウント＞\n",
    "ランダムにN回点を打って、半径rの円の中に入っているか数える\n",
    "\n",
    "＊プロットするなら、コメントアウトをはずす"
   ]
  },
  {
   "cell_type": "code",
   "execution_count": 38,
   "metadata": {
    "collapsed": false
   },
   "outputs": [],
   "source": [
    "for i in range(N):\n",
    "    x = random.random()\n",
    "    y = random.random()\n",
    "    p = math.sqrt(x*x + y*y)\n",
    "    if p < r:\n",
    "        IN += 1\n",
    "        # plt.plot(x, y, \"ro\")\n",
    "    # else:\n",
    "        # plt.plot(x, y, \"bo\")"
   ]
  },
  {
   "cell_type": "markdown",
   "metadata": {},
   "source": [
    "## ＜円周率をもとめる＞"
   ]
  },
  {
   "cell_type": "code",
   "execution_count": 39,
   "metadata": {
    "collapsed": false
   },
   "outputs": [],
   "source": [
    "pi = 4.0 * float(IN) / float(N)"
   ]
  },
  {
   "cell_type": "code",
   "execution_count": 40,
   "metadata": {
    "collapsed": false
   },
   "outputs": [
    {
     "name": "stdout",
     "output_type": "stream",
     "text": [
      "3.14424\n"
     ]
    }
   ],
   "source": [
    "print(pi)"
   ]
  },
  {
   "cell_type": "raw",
   "metadata": {},
   "source": [
    "\\begin{align}\n",
    "\\dot{x} & = \\sigma(y-x) \\\\\n",
    "\\dot{y} & = \\rho x - y - xz \\\\\n",
    "\\dot{z} & = -\\beta z + xy\n",
    "\\end{align}"
   ]
  },
  {
   "cell_type": "markdown",
   "metadata": {},
   "source": []
  }
 ],
 "metadata": {
  "kernelspec": {
   "display_name": "Python 3",
   "language": "python",
   "name": "python3"
  },
  "language_info": {
   "codemirror_mode": {
    "name": "ipython",
    "version": 3
   },
   "file_extension": ".py",
   "mimetype": "text/x-python",
   "name": "python",
   "nbconvert_exporter": "python",
   "pygments_lexer": "ipython3",
   "version": "3.6.0"
  }
 },
 "nbformat": 4,
 "nbformat_minor": 2
}
