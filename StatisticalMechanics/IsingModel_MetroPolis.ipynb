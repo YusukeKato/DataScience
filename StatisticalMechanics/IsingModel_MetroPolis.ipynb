{
 "cells": [
  {
   "cell_type": "markdown",
   "metadata": {},
   "source": [
    "# メトロポリス法を用いたイジング模型シミュレーション"
   ]
  },
  {
   "cell_type": "markdown",
   "metadata": {},
   "source": [
    "## ＜イジング模型とは何か＞\n",
    "　イジング模型とは磁性体のモデルである。\n",
    "\n",
    "　二つの状態（±1）を持ったスピンは隣り合ったスピンと相互に影響しあう。このスピンのエネルギーは式(1)で表せる。\n",
    " \n",
    "　Sはスピン、Jは相互作用の強さを表す定数、Hは磁場である。\n",
    "\n",
    "$$E = \\displaystyle -J \\sum_{ i,j (i \\neq j)} S_i S_j - H \\sum_{i} S_i\\qquad(1)$$"
   ]
  },
  {
   "cell_type": "markdown",
   "metadata": {},
   "source": [
    "## ＜メトロポリス法とは何か＞\n",
    "\n",
    "　ある状態から変化させたとき、新しい状態と古い状態のエネルギー差をdEとする。\n",
    " \n",
    "　　・dE < 0 のとき、新しい状態を採用する\n",
    "  \n",
    "　　・dE > 0 のとき、式(2）より確率Pで新しい状態を採用する\n",
    "   \n",
    "$$\\large{ P = e^\\frac{-dE}{KB \\ T} \\qquad (2) }$$\n",
    "\n",
    "　Tは温度、KBはボルツマン定数である。\n"
   ]
  },
  {
   "cell_type": "markdown",
   "metadata": {},
   "source": [
    "## ＜シミュレーテッドアニーリング＞\n",
    "\n",
    "　シミュレーテッドアニーリングを用いる。説明は巡回セールスマン問題のページで書く。"
   ]
  },
  {
   "cell_type": "markdown",
   "metadata": {},
   "source": [
    "## ＜コード＞\n",
    "\n",
    "温度(T)、磁場(H)、試行回数(val,times)を変更すると結果が変わる"
   ]
  },
  {
   "cell_type": "code",
   "execution_count": 1,
   "metadata": {
    "collapsed": true
   },
   "outputs": [],
   "source": [
    "%matplotlib inline\n",
    "import numpy as np\n",
    "import math, random\n",
    "import copy\n",
    "import matplotlib.pyplot as plt"
   ]
  },
  {
   "cell_type": "code",
   "execution_count": 11,
   "metadata": {
    "collapsed": true
   },
   "outputs": [],
   "source": [
    "class ising:\n",
    "    def __init__(self):\n",
    "        self.J = 1.0\n",
    "        self.H = 0.0\n",
    "        self.T = 5.0\n",
    "        self.val = 100\n",
    "        self.times = 3\n",
    "        self.spin = [[0 for i in range(self.val)] for j in range(self.val)]\n",
    "        \n",
    "    def init(self):\n",
    "        for x in range(self.val):\n",
    "            for y in range(self.val):\n",
    "                if(random.randint(0, 1) == 0):\n",
    "                    self.spin[x][y] = -1\n",
    "                else:\n",
    "                    self.spin[x][y] = 1\n",
    "    \n",
    "    def cal(self, i, j):\n",
    "        Ev = (-1.0 * -self.spin[i][j] * (self.spin[i][j + 1] + self.spin[i][j - 1] + self.spin[i + 1][j] + self.spin[i - 1][j]) + (-self.spin[i][j]) * self.H);\n",
    "        Eu = (-1.0 * self.spin[i][j] * (self.spin[i][j + 1] + self.spin[i][j - 1] + self.spin[i + 1][j] + self.spin[i - 1][j]) + self.spin[i][j] * self.H);\n",
    "        dE = Ev - Eu;\n",
    "        return dE\n",
    "    \n",
    "    def judge(self):\n",
    "        i = random.randint(1, self.val-2)\n",
    "        j = random.randint(1, self.val-2)\n",
    "        dE = self.cal(i, j)\n",
    "        if dE < 0:\n",
    "            self.spin[i][j] = -self.spin[i][j]\n",
    "        else:\n",
    "            ran = random.random()\n",
    "            p = math.exp(-dE/self.T)\n",
    "            if p > ran:\n",
    "                self.spin[i][j] = -self.spin[i][j]\n",
    "            else:\n",
    "                pass\n",
    "    \n",
    "    def draw(self):\n",
    "        for x in range(self.val):\n",
    "            for y in range(self.val):\n",
    "                if self.spin[x][y] == 1:\n",
    "                    plt.plot(x, y, \"ro\")\n",
    "                elif self.spin[x][y] == -1:\n",
    "                    plt.plot(x, y, \"bo\")\n",
    "    \n",
    "    def loop(self):\n",
    "        for j in range(10):\n",
    "            for i in range(int(self.times) + 10):\n",
    "                self.judge()\n",
    "            self.times *= 3\n",
    "            self.T -= 0.5"
   ]
  },
  {
   "cell_type": "code",
   "execution_count": 12,
   "metadata": {
    "collapsed": false
   },
   "outputs": [
    {
     "data": {
      "image/png": "[encoded data removed]",
      "text/plain": [
       "<matplotlib.figure.Figure at 0x12d97525f60>"
      ]
     },
     "metadata": {},
     "output_type": "display_data"
    }
   ],
   "source": [
    "b = ising()\n",
    "b.init()\n",
    "b.loop()\n",
    "b.draw()"
   ]
  },
  {
   "cell_type": "code",
   "execution_count": null,
   "metadata": {
    "collapsed": true
   },
   "outputs": [],
   "source": []
  }
 ],
 "metadata": {
  "kernelspec": {
   "display_name": "Python 3",
   "language": "python",
   "name": "python3"
  },
  "language_info": {
   "codemirror_mode": {
    "name": "ipython",
    "version": 3
   },
   "file_extension": ".py",
   "mimetype": "text/x-python",
   "name": "python",
   "nbconvert_exporter": "python",
   "pygments_lexer": "ipython3",
   "version": "3.6.0"
  }
 },
 "nbformat": 4,
 "nbformat_minor": 2
}
