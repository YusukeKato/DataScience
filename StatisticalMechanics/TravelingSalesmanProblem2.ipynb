{
 "cells": [
  {
   "cell_type": "markdown",
   "metadata": {},
   "source": [
    "# モンテカルロ法を用いて、巡回セールスマン問題(TSP)を解く"
   ]
  },
  {
   "cell_type": "markdown",
   "metadata": {},
   "source": [
    "＊クラスにした -> 同ディレクトリ「TSP_class.ipynb」"
   ]
  },
  {
   "cell_type": "markdown",
   "metadata": {},
   "source": [
    "## ＜巡回セールスマン問題とは何か＞\n",
    "　巡回セールスマン問題とは、複数の都市と都市間の移動距離が与えられたとき、ある都市からすべての都市を回り、また初めの都市に戻る最短経路を求める問題である。"
   ]
  },
  {
   "cell_type": "markdown",
   "metadata": {},
   "source": [
    "## ＜モンテカルロ法とは何か＞\n",
    "\n",
    "　問題に確率を結びつけて解を求める方法である。\n",
    " \n",
    "　今回はメトロポリス法である。"
   ]
  },
  {
   "cell_type": "markdown",
   "metadata": {},
   "source": [
    "## ＜今回のアルゴリズム＞\n",
    "1. 経路1での総移動距離を求める。これをE1とする。\n",
    "\n",
    "2. 経路1からランダムに2つの都市を選び順番を交換する。これを経路2とする。\n",
    "\n",
    "3. 経路2の総移動距離を求める。これをE2とする。\n",
    "\n",
    "4. dE = E2 - E1を計算する。変更された部分だけの差を求めたほうが計算量が少なく済む。\n",
    "\n",
    "5. dE < 0 ならば、経路2を採用する。\n",
    "\n",
    "6. dE > 0 ならば、式(1)より確率Pで経路2を採用する。（ボルツマン定数があるかもしれない）\n",
    "\n",
    "7. これを繰り返す。\n",
    "\n",
    "$$ \\large{ P = e^\\frac{-dE}{T}} \\qquad (1)$$\n",
    "\n",
    "＊温度の設定は重要である。\n",
    "\n",
    "＊あらかじめ距離を計算しておくと、毎回計算する必要がないので、処理が軽くなる"
   ]
  },
  {
   "cell_type": "markdown",
   "metadata": {},
   "source": [
    "## ＜シミュレーテッドアニーリング（SA、焼きなまし法）＞\n",
    "\n",
    "　温度の設定が重要である。式(1)をみると温度Tが大きいとき、Pの値はほぼ１になるので新しい配置が採用される確率が高い。逆に温度Tが小さいとき、Pの値はほぼ 0 になるので新しい配置が採用される確率は小さい。\n",
    "\n",
    "　温度の初期値を十分高くし、その温度での適当な回数試行した後温度を下げる。下げた温度で同じように適当な回数試行し温度を下げる。これを繰り返すことで、局所的最適解にとどまらず、真の最適解を求めることができる可能性が高い。\n",
    " \n",
    "　その温度でどのくらいの回数の試行が必要かはやってみるしかないが、温度が高いときは試行回数を少なく温度が低いときは試行回数を多くすると良い。"
   ]
  },
  {
   "cell_type": "markdown",
   "metadata": {},
   "source": [
    "## ＜気にすること＞\n",
    "\n",
    "・初期温度と下げ方\n",
    "\n",
    "・その温度での試行回数"
   ]
  },
  {
   "cell_type": "markdown",
   "metadata": {},
   "source": [
    "## ＜コード＞"
   ]
  },
  {
   "cell_type": "code",
   "execution_count": 25,
   "metadata": {
    "collapsed": true
   },
   "outputs": [],
   "source": [
    "%matplotlib inline\n",
    "import numpy as np\n",
    "import math, random\n",
    "import copy\n",
    "import matplotlib.pyplot as plt"
   ]
  },
  {
   "cell_type": "code",
   "execution_count": 26,
   "metadata": {
    "collapsed": true
   },
   "outputs": [],
   "source": [
    "city = [] # 街の番号、座標\n",
    "N = 16    # 街の数\n",
    "T = 3.0   # 温度\n",
    "Earray = [] # Eを保存\n",
    "# KB = 3.18064852 * math.pow(10, -23)"
   ]
  },
  {
   "cell_type": "code",
   "execution_count": 27,
   "metadata": {
    "collapsed": false
   },
   "outputs": [],
   "source": [
    "def init():\n",
    "    global city, N\n",
    "    for i in range(N):\n",
    "        a = []\n",
    "        a.append(i)\n",
    "        a.append(random.uniform(0.0, 1.0))\n",
    "        a.append(random.uniform(0.0, 1.0))\n",
    "        city.append(a)\n",
    "        # plt.plot(a[1], a[2], \"o\")"
   ]
  },
  {
   "cell_type": "code",
   "execution_count": 28,
   "metadata": {
    "collapsed": true
   },
   "outputs": [],
   "source": [
    "def shuff():\n",
    "    global city, N\n",
    "    # 0番目以外で二つの都市を交換\n",
    "    ran1 = random.randint(1, N-1)\n",
    "    ran2 = random.randint(1, N-1)\n",
    "    rcity = copy.copy(city[ran1])\n",
    "    city[ran1] = copy.copy(city[ran2])\n",
    "    city[ran2] = copy.copy(rcity)"
   ]
  },
  {
   "cell_type": "code",
   "execution_count": 29,
   "metadata": {
    "collapsed": false
   },
   "outputs": [],
   "source": [
    "def energy():\n",
    "    global city, N\n",
    "    E = 0\n",
    "    for i in range(1, N-1):\n",
    "        E += math.sqrt(math.pow(city[i+1][1]-city[i][1], 2) + math.pow(city[i+1][2]-city[i][2], 2))\n",
    "    E += math.sqrt(math.pow(city[N-1][1]-city[0][1], 2) + math.pow(city[N-1][2]-city[0][2], 2))\n",
    "    return E\n",
    "\n",
    "def Enote(E1, E2):\n",
    "    if E1 <= E2:\n",
    "        Earray.append(E1)\n",
    "    elif E1 > E2:\n",
    "        Earray.append(E2)\n",
    "\n",
    "def judge(E1, E2, pcity):\n",
    "    # 判定\n",
    "    global city, T\n",
    "    dE = E2 - E1\n",
    "    if(dE < 0):\n",
    "        pass\n",
    "    else:\n",
    "        ran = random.random()\n",
    "        p = 0\n",
    "        if(T > 0.00001):\n",
    "            p = math.exp(-dE / T)\n",
    "        else:\n",
    "            p = math.exp(-100000000000000)\n",
    "        if(p > ran):\n",
    "            pass\n",
    "        else:\n",
    "            city = copy.copy(pcity)\n",
    "    \n",
    "def dancing():\n",
    "    # メインの処理\n",
    "    global city, N, T\n",
    "    times = 1.11 # 試行回数を決定\n",
    "    plus = 50   # 試行回数に少し足す\n",
    "    for k in range(100):\n",
    "        for j in range(int(times)+plus):\n",
    "            E1 = 0.0\n",
    "            E2 = 0.0\n",
    "            pcity = copy.copy(city) # 現在の経路を保存\n",
    "            # 現在の総移動距離\n",
    "            E1 = energy()\n",
    "            # シャッフル\n",
    "            shuff()\n",
    "            # 遷移後の総移動距離\n",
    "            E2 = energy()\n",
    "            # 判定\n",
    "            judge(E1, E2, pcity)\n",
    "            # 1000回に1回取得\n",
    "            if(j % 1000 == 0):\n",
    "                Enote(E1, E2)\n",
    "        T -= 0.03 # 1step温度を下げる\n",
    "        times *= 1.11\n",
    "        plus += 10"
   ]
  },
  {
   "cell_type": "code",
   "execution_count": 30,
   "metadata": {
    "collapsed": false
   },
   "outputs": [],
   "source": [
    "def result(): \n",
    "    # ルート表示\n",
    "    global city, N\n",
    "    print(\"root\",end=\" : \")\n",
    "    for i in range(N):\n",
    "        print(city[i][0],end=\" \")\n",
    "    print(city[0][0])"
   ]
  },
  {
   "cell_type": "code",
   "execution_count": 31,
   "metadata": {
    "collapsed": false
   },
   "outputs": [],
   "source": [
    "def draw():\n",
    "    # プロット\n",
    "    global city, N\n",
    "    plt.plot(city[0][1], city[0][2], \"ro\")\n",
    "    for j in range(1, N):\n",
    "        plt.plot(city[j][1], city[j][2], \"bo\")\n",
    "    for i in range(N-1):\n",
    "        plt.plot([city[i][1], city[i+1][1]], [city[i][2], city[i+1][2]], 'k-', lw=1)\n",
    "    plt.plot([city[0][1], city[N-1][1]], [city[0][2], city[N-1][2]], 'k-', lw=1)\n",
    "    plt.xlabel(\"X-axis\")\n",
    "    plt.ylabel(\"Y-axis\")"
   ]
  },
  {
   "cell_type": "code",
   "execution_count": 32,
   "metadata": {
    "collapsed": true
   },
   "outputs": [],
   "source": [
    "def main():\n",
    "    init()\n",
    "    dancing()\n",
    "    result()\n",
    "    draw()"
   ]
  },
  {
   "cell_type": "code",
   "execution_count": 33,
   "metadata": {
    "collapsed": false,
    "scrolled": true
   },
   "outputs": [
    {
     "name": "stdout",
     "output_type": "stream",
     "text": [
      "root : 0 15 13 9 5 1 6 2 10 12 4 14 11 7 3 8 0\n"
     ]
    },
    {
     "data": {
      "image/png": "[encoded data removed]",
      "text/plain": [
       "<matplotlib.figure.Figure at 0x23d8dc092b0>"
      ]
     },
     "metadata": {},
     "output_type": "display_data"
    }
   ],
   "source": [
    "main()"
   ]
  },
  {
   "cell_type": "code",
   "execution_count": 34,
   "metadata": {
    "collapsed": false
   },
   "outputs": [
    {
     "data": {
      "text/plain": [
       "<matplotlib.text.Text at 0x23d8df026d8>"
      ]
     },
     "execution_count": 34,
     "metadata": {},
     "output_type": "execute_result"
    },
    {
     "data": {
      "image/png": "[encoded data removed]",
      "text/plain": [
       "<matplotlib.figure.Figure at 0x23d8df0c400>"
      ]
     },
     "metadata": {},
     "output_type": "display_data"
    }
   ],
   "source": [
    "for i in range(len(Earray)-1):\n",
    "    #plt.plot(i, Earray[i], \"bo\")\n",
    "    plt.plot([i, i+1], [Earray[i], Earray[i+1]], 'k-', lw=1)\n",
    "plt.xlabel(\"times\")\n",
    "plt.ylabel(\"cost\")"
   ]
  },
  {
   "cell_type": "code",
   "execution_count": null,
   "metadata": {
    "collapsed": true
   },
   "outputs": [],
   "source": []
  }
 ],
 "metadata": {
  "kernelspec": {
   "display_name": "Python 3",
   "language": "python",
   "name": "python3"
  },
  "language_info": {
   "codemirror_mode": {
    "name": "ipython",
    "version": 3
   },
   "file_extension": ".py",
   "mimetype": "text/x-python",
   "name": "python",
   "nbconvert_exporter": "python",
   "pygments_lexer": "ipython3",
   "version": "3.6.0"
  }
 },
 "nbformat": 4,
 "nbformat_minor": 2
}
