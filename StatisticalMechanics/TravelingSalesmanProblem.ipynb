{
 "cells": [
  {
   "cell_type": "markdown",
   "metadata": {},
   "source": [
    "# モンテカルロ法を用いて、巡回セールスマン問題(TSP)を解く"
   ]
  },
  {
   "cell_type": "markdown",
   "metadata": {},
   "source": [
    "## ＜巡回セールスマン問題とは何か＞\n",
    "　巡回セールスマン問題とは、複数の都市と都市間の移動距離が与えられたとき、ある都市からすべての都市を回り、また初めの都市に戻る最短経路を求める問題である。"
   ]
  },
  {
   "cell_type": "markdown",
   "metadata": {},
   "source": [
    "## ＜モンテカルロ法とは何か＞\n",
    "　確率を用いて解を求める方法である。"
   ]
  },
  {
   "cell_type": "markdown",
   "metadata": {},
   "source": [
    "## ＜今回のアルゴリズム＞\n",
    "1. 経路1での総移動距離を求める。これをE1とする。\n",
    "\n",
    "2. 経路1からランダムに2つの都市を選び順番を交換する。これを経路2とする。\n",
    "\n",
    "3. 経路2の総移動距離を求める。これをE2とする。\n",
    "\n",
    "4. dE = E2 - E1を計算する。\n",
    "\n",
    "5. dE < 0 ならば、経路2を採用する。\n",
    "\n",
    "6. dE > 0 ならば、確率 exp(-dE/T)で経路2を採用する。（ボルツマン定数があるかもしれない）\n",
    "\n",
    "7. これを繰り返す。\n",
    "\n",
    "＊温度の設定は重要である。"
   ]
  },
  {
   "cell_type": "markdown",
   "metadata": {},
   "source": [
    "## ＜シミュレーテッドアニーリング（SA、焼きなまし法）＞\n",
    "　温度の初期値を十分高くし、適当な回数試行した後、1step分温度を下げる。これを繰り返すことで、局所的最適解にとどまらず、真の最適解を求めることができる可能性が高い。\n",
    " \n",
    "　温度が高いときは新しい経路が採用される確率が高いので局所にとどまらず、様々な状態をとりながらより最適な解に近くなる。そして、温度が低くなってくると新しい経路が採用される確率が低くなるので、解が定まっていく。"
   ]
  },
  {
   "cell_type": "markdown",
   "metadata": {},
   "source": [
    "## ＜温度T＞\n",
    "　温度の設定が重要である。温度が十分大きいとき、P = math.exp(-dE/T)は、ほぼ１になるので、新しい配置が採用される確率が高い。逆に、Tが小さいとき、Pの値は、ほぼ０になるので、新しい配置が採用される確率は小さい。\n",
    "\n",
    "・温度の初期値\n",
    "\n",
    "・試行回数\n",
    "\n",
    "・１stepでの温度の減る値\n"
   ]
  },
  {
   "cell_type": "markdown",
   "metadata": {},
   "source": [
    "## ＜ヘッダ＞"
   ]
  },
  {
   "cell_type": "code",
   "execution_count": 505,
   "metadata": {
    "collapsed": true
   },
   "outputs": [],
   "source": [
    "%matplotlib inline\n",
    "import numpy as np\n",
    "import math, random\n",
    "import copy\n",
    "import matplotlib.pyplot as plt"
   ]
  },
  {
   "cell_type": "markdown",
   "metadata": {},
   "source": [
    "## ＜重要な値＞"
   ]
  },
  {
   "cell_type": "code",
   "execution_count": 506,
   "metadata": {
    "collapsed": true
   },
   "outputs": [],
   "source": [
    "city = [] # 街の番号、座標\n",
    "N = 16    # 街の数\n",
    "T = 3.0   # 温度\n",
    "Earray = []\n",
    "# KB = 3.18064852 * math.pow(10, -23)"
   ]
  }
 ],
 "metadata": {
  "kernelspec": {
   "display_name": "Python 3",
   "language": "python",
   "name": "python3"
  },
  "language_info": {
   "codemirror_mode": {
    "name": "ipython",
    "version": 3
   },
   "file_extension": ".py",
   "mimetype": "text/x-python",
   "name": "python",
   "nbconvert_exporter": "python",
   "pygments_lexer": "ipython3",
   "version": "3.6.0"
  }
 },
 "nbformat": 4,
 "nbformat_minor": 2
}
